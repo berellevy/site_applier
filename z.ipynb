{
 "cells": [
  {
   "cell_type": "code",
   "execution_count": 61,
   "metadata": {},
   "outputs": [],
   "source": [
    "from browser import *\n",
    "\n",
    "from workday import *\n"
   ]
  },
  {
   "cell_type": "code",
   "execution_count": 2,
   "metadata": {},
   "outputs": [],
   "source": [
    "\n",
    "url = r\"https://fox.wd1.myworkdayjobs.com/en-US/Domestic/login?redirect=%2Fen-US%2FDomestic%2Fjob%2FUSA---CA---Los-Angeles---10201-W.-Pico-Blvd%2FSenior-Software-Engineer_R50023521%2Fapply%2FapplyManually\"\n",
    "\n",
    "applier = Applier(url)"
   ]
  },
  {
   "cell_type": "code",
   "execution_count": 65,
   "metadata": {},
   "outputs": [
    {
     "ename": "NoSuchElementException",
     "evalue": "Message: no such element: Unable to locate element: {\"method\":\"xpath\",\"selector\":\"//div[contains( text( ), 'College | other')]\"}\n  (Session info: chrome=124.0.6367.208); For documentation on this error, please visit: https://www.selenium.dev/documentation/webdriver/troubleshooting/errors#no-such-element-exception\nStacktrace:\n\tGetHandleVerifier [0x00007FF67F891522+60802]\n\t(No symbol) [0x00007FF67F80AC22]\n\t(No symbol) [0x00007FF67F6C7CE4]\n\t(No symbol) [0x00007FF67F716D4D]\n\t(No symbol) [0x00007FF67F716E1C]\n\t(No symbol) [0x00007FF67F70A8FC]\n\t(No symbol) [0x00007FF67F73ABBF]\n\t(No symbol) [0x00007FF67F70A7C6]\n\t(No symbol) [0x00007FF67F73AD90]\n\t(No symbol) [0x00007FF67F75A224]\n\t(No symbol) [0x00007FF67F73A923]\n\t(No symbol) [0x00007FF67F708FEC]\n\t(No symbol) [0x00007FF67F709C21]\n\tGetHandleVerifier [0x00007FF67FB941BD+3217949]\n\tGetHandleVerifier [0x00007FF67FBD6157+3488183]\n\tGetHandleVerifier [0x00007FF67FBCF0DF+3459391]\n\tGetHandleVerifier [0x00007FF67F94B8E6+823622]\n\t(No symbol) [0x00007FF67F815FBF]\n\t(No symbol) [0x00007FF67F810EE4]\n\t(No symbol) [0x00007FF67F811072]\n\t(No symbol) [0x00007FF67F8018C4]\n\tBaseThreadInitThunk [0x00007FFBE692257D+29]\n\tRtlUserThreadStart [0x00007FFBE758AA48+40]\n",
     "output_type": "error",
     "traceback": [
      "\u001b[1;31m---------------------------------------------------------------------------\u001b[0m",
      "\u001b[1;31mNoSuchElementException\u001b[0m                    Traceback (most recent call last)",
      "Cell \u001b[1;32mIn[65], line 3\u001b[0m\n\u001b[0;32m      1\u001b[0m \u001b[38;5;66;03m# salary(applier.browser)\u001b[39;00m\n\u001b[0;32m      2\u001b[0m \u001b[38;5;66;03m# visa(applier.browser)\u001b[39;00m\n\u001b[1;32m----> 3\u001b[0m \u001b[43meducation\u001b[49m\u001b[43m(\u001b[49m\u001b[43mapplier\u001b[49m\u001b[38;5;241;43m.\u001b[39;49m\u001b[43mbrowser\u001b[49m\u001b[43m)\u001b[49m\n",
      "File \u001b[1;32mc:\\Users\\berel\\Desktop\\site_applier\\workday.py:291\u001b[0m, in \u001b[0;36meducation\u001b[1;34m(browser)\u001b[0m\n\u001b[0;32m    289\u001b[0m find_field_by_label_content(browser, \u001b[38;5;124m\"\u001b[39m\u001b[38;5;124meducation\u001b[39m\u001b[38;5;124m\"\u001b[39m, \u001b[38;5;124m\"\u001b[39m\u001b[38;5;124mlabel\u001b[39m\u001b[38;5;124m\"\u001b[39m)\u001b[38;5;241m.\u001b[39mclick()\n\u001b[0;32m    290\u001b[0m popup \u001b[38;5;241m=\u001b[39m browser\u001b[38;5;241m.\u001b[39mfind_element(CSS, \u001b[38;5;124m\"\u001b[39m\u001b[38;5;124mdiv[data-automation-widget=\u001b[39m\u001b[38;5;124m'\u001b[39m\u001b[38;5;124mwd-popup\u001b[39m\u001b[38;5;124m'\u001b[39m\u001b[38;5;124m]\u001b[39m\u001b[38;5;124m\"\u001b[39m)\n\u001b[1;32m--> 291\u001b[0m \u001b[43mpopup\u001b[49m\u001b[38;5;241;43m.\u001b[39;49m\u001b[43mfind_element\u001b[49m\u001b[43m(\u001b[49m\u001b[43mXP\u001b[49m\u001b[43m,\u001b[49m\u001b[43m \u001b[49m\u001b[43mel_text_content\u001b[49m\u001b[43m(\u001b[49m\u001b[38;5;124;43m\"\u001b[39;49m\u001b[38;5;124;43mdiv\u001b[39;49m\u001b[38;5;124;43m\"\u001b[39;49m\u001b[43m,\u001b[49m\u001b[43m \u001b[49m\u001b[38;5;124;43m\"\u001b[39;49m\u001b[38;5;124;43mCollege | other\u001b[39;49m\u001b[38;5;124;43m\"\u001b[39;49m\u001b[43m)\u001b[49m\u001b[43m)\u001b[49m\u001b[38;5;241m.\u001b[39mclick()\n",
      "File \u001b[1;32mc:\\Users\\berel\\Desktop\\site_applier\\venv\\Lib\\site-packages\\selenium\\webdriver\\remote\\webelement.py:417\u001b[0m, in \u001b[0;36mWebElement.find_element\u001b[1;34m(self, by, value)\u001b[0m\n\u001b[0;32m    414\u001b[0m     by \u001b[38;5;241m=\u001b[39m By\u001b[38;5;241m.\u001b[39mCSS_SELECTOR\n\u001b[0;32m    415\u001b[0m     value \u001b[38;5;241m=\u001b[39m \u001b[38;5;124mf\u001b[39m\u001b[38;5;124m'\u001b[39m\u001b[38;5;124m[name=\u001b[39m\u001b[38;5;124m\"\u001b[39m\u001b[38;5;132;01m{\u001b[39;00mvalue\u001b[38;5;132;01m}\u001b[39;00m\u001b[38;5;124m\"\u001b[39m\u001b[38;5;124m]\u001b[39m\u001b[38;5;124m'\u001b[39m\n\u001b[1;32m--> 417\u001b[0m \u001b[38;5;28;01mreturn\u001b[39;00m \u001b[38;5;28;43mself\u001b[39;49m\u001b[38;5;241;43m.\u001b[39;49m\u001b[43m_execute\u001b[49m\u001b[43m(\u001b[49m\u001b[43mCommand\u001b[49m\u001b[38;5;241;43m.\u001b[39;49m\u001b[43mFIND_CHILD_ELEMENT\u001b[49m\u001b[43m,\u001b[49m\u001b[43m \u001b[49m\u001b[43m{\u001b[49m\u001b[38;5;124;43m\"\u001b[39;49m\u001b[38;5;124;43musing\u001b[39;49m\u001b[38;5;124;43m\"\u001b[39;49m\u001b[43m:\u001b[49m\u001b[43m \u001b[49m\u001b[43mby\u001b[49m\u001b[43m,\u001b[49m\u001b[43m \u001b[49m\u001b[38;5;124;43m\"\u001b[39;49m\u001b[38;5;124;43mvalue\u001b[39;49m\u001b[38;5;124;43m\"\u001b[39;49m\u001b[43m:\u001b[49m\u001b[43m \u001b[49m\u001b[43mvalue\u001b[49m\u001b[43m}\u001b[49m\u001b[43m)\u001b[49m[\u001b[38;5;124m\"\u001b[39m\u001b[38;5;124mvalue\u001b[39m\u001b[38;5;124m\"\u001b[39m]\n",
      "File \u001b[1;32mc:\\Users\\berel\\Desktop\\site_applier\\venv\\Lib\\site-packages\\selenium\\webdriver\\remote\\webelement.py:395\u001b[0m, in \u001b[0;36mWebElement._execute\u001b[1;34m(self, command, params)\u001b[0m\n\u001b[0;32m    393\u001b[0m     params \u001b[38;5;241m=\u001b[39m {}\n\u001b[0;32m    394\u001b[0m params[\u001b[38;5;124m\"\u001b[39m\u001b[38;5;124mid\u001b[39m\u001b[38;5;124m\"\u001b[39m] \u001b[38;5;241m=\u001b[39m \u001b[38;5;28mself\u001b[39m\u001b[38;5;241m.\u001b[39m_id\n\u001b[1;32m--> 395\u001b[0m \u001b[38;5;28;01mreturn\u001b[39;00m \u001b[38;5;28;43mself\u001b[39;49m\u001b[38;5;241;43m.\u001b[39;49m\u001b[43m_parent\u001b[49m\u001b[38;5;241;43m.\u001b[39;49m\u001b[43mexecute\u001b[49m\u001b[43m(\u001b[49m\u001b[43mcommand\u001b[49m\u001b[43m,\u001b[49m\u001b[43m \u001b[49m\u001b[43mparams\u001b[49m\u001b[43m)\u001b[49m\n",
      "File \u001b[1;32mc:\\Users\\berel\\Desktop\\site_applier\\venv\\Lib\\site-packages\\selenium\\webdriver\\remote\\webdriver.py:347\u001b[0m, in \u001b[0;36mWebDriver.execute\u001b[1;34m(self, driver_command, params)\u001b[0m\n\u001b[0;32m    345\u001b[0m response \u001b[38;5;241m=\u001b[39m \u001b[38;5;28mself\u001b[39m\u001b[38;5;241m.\u001b[39mcommand_executor\u001b[38;5;241m.\u001b[39mexecute(driver_command, params)\n\u001b[0;32m    346\u001b[0m \u001b[38;5;28;01mif\u001b[39;00m response:\n\u001b[1;32m--> 347\u001b[0m     \u001b[38;5;28;43mself\u001b[39;49m\u001b[38;5;241;43m.\u001b[39;49m\u001b[43merror_handler\u001b[49m\u001b[38;5;241;43m.\u001b[39;49m\u001b[43mcheck_response\u001b[49m\u001b[43m(\u001b[49m\u001b[43mresponse\u001b[49m\u001b[43m)\u001b[49m\n\u001b[0;32m    348\u001b[0m     response[\u001b[38;5;124m\"\u001b[39m\u001b[38;5;124mvalue\u001b[39m\u001b[38;5;124m\"\u001b[39m] \u001b[38;5;241m=\u001b[39m \u001b[38;5;28mself\u001b[39m\u001b[38;5;241m.\u001b[39m_unwrap_value(response\u001b[38;5;241m.\u001b[39mget(\u001b[38;5;124m\"\u001b[39m\u001b[38;5;124mvalue\u001b[39m\u001b[38;5;124m\"\u001b[39m, \u001b[38;5;28;01mNone\u001b[39;00m))\n\u001b[0;32m    349\u001b[0m     \u001b[38;5;28;01mreturn\u001b[39;00m response\n",
      "File \u001b[1;32mc:\\Users\\berel\\Desktop\\site_applier\\venv\\Lib\\site-packages\\selenium\\webdriver\\remote\\errorhandler.py:229\u001b[0m, in \u001b[0;36mErrorHandler.check_response\u001b[1;34m(self, response)\u001b[0m\n\u001b[0;32m    227\u001b[0m         alert_text \u001b[38;5;241m=\u001b[39m value[\u001b[38;5;124m\"\u001b[39m\u001b[38;5;124malert\u001b[39m\u001b[38;5;124m\"\u001b[39m]\u001b[38;5;241m.\u001b[39mget(\u001b[38;5;124m\"\u001b[39m\u001b[38;5;124mtext\u001b[39m\u001b[38;5;124m\"\u001b[39m)\n\u001b[0;32m    228\u001b[0m     \u001b[38;5;28;01mraise\u001b[39;00m exception_class(message, screen, stacktrace, alert_text)  \u001b[38;5;66;03m# type: ignore[call-arg]  # mypy is not smart enough here\u001b[39;00m\n\u001b[1;32m--> 229\u001b[0m \u001b[38;5;28;01mraise\u001b[39;00m exception_class(message, screen, stacktrace)\n",
      "\u001b[1;31mNoSuchElementException\u001b[0m: Message: no such element: Unable to locate element: {\"method\":\"xpath\",\"selector\":\"//div[contains( text( ), 'College | other')]\"}\n  (Session info: chrome=124.0.6367.208); For documentation on this error, please visit: https://www.selenium.dev/documentation/webdriver/troubleshooting/errors#no-such-element-exception\nStacktrace:\n\tGetHandleVerifier [0x00007FF67F891522+60802]\n\t(No symbol) [0x00007FF67F80AC22]\n\t(No symbol) [0x00007FF67F6C7CE4]\n\t(No symbol) [0x00007FF67F716D4D]\n\t(No symbol) [0x00007FF67F716E1C]\n\t(No symbol) [0x00007FF67F70A8FC]\n\t(No symbol) [0x00007FF67F73ABBF]\n\t(No symbol) [0x00007FF67F70A7C6]\n\t(No symbol) [0x00007FF67F73AD90]\n\t(No symbol) [0x00007FF67F75A224]\n\t(No symbol) [0x00007FF67F73A923]\n\t(No symbol) [0x00007FF67F708FEC]\n\t(No symbol) [0x00007FF67F709C21]\n\tGetHandleVerifier [0x00007FF67FB941BD+3217949]\n\tGetHandleVerifier [0x00007FF67FBD6157+3488183]\n\tGetHandleVerifier [0x00007FF67FBCF0DF+3459391]\n\tGetHandleVerifier [0x00007FF67F94B8E6+823622]\n\t(No symbol) [0x00007FF67F815FBF]\n\t(No symbol) [0x00007FF67F810EE4]\n\t(No symbol) [0x00007FF67F811072]\n\t(No symbol) [0x00007FF67F8018C4]\n\tBaseThreadInitThunk [0x00007FFBE692257D+29]\n\tRtlUserThreadStart [0x00007FFBE758AA48+40]\n"
     ]
    }
   ],
   "source": [
    "# salary(applier.browser)\n",
    "# visa(applier.browser)\n",
    "education(applier.browser)\n"
   ]
  },
  {
   "cell_type": "code",
   "execution_count": 22,
   "metadata": {},
   "outputs": [
    {
     "data": {
      "text/plain": [
       "('css selector', \"div[data-automation-id^='formField']\")"
      ]
     },
     "execution_count": 22,
     "metadata": {},
     "output_type": "execute_result"
    }
   ],
   "source": []
  },
  {
   "cell_type": "code",
   "execution_count": 106,
   "metadata": {},
   "outputs": [],
   "source": [
    "import keyboard\n",
    "browser.find_element(By.ID, \"first_name\").send_keys(\"Dovber\")\n",
    "browser.find_element(By.ID, \"last_name\").send_keys(\"Levy\")\n",
    "browser.find_element(By.ID, \"email\").send_keys(\"berellevy@gmail.com\")\n",
    "browser.find_element(By.ID, \"phone\").send_keys(\"9176798518\")\n",
    "(\n",
    "    browser\n",
    "    .find_element(By.XPATH, \"//label[contains( text( ), 'LinkedIn Profile')]\")\n",
    "    .find_element(By.CSS_SELECTOR, \"input[type='text']\")\n",
    "    .send_keys(\"https://www.linkedin.com/in/berellevy/\")\n",
    ")\n",
    "el = (\n",
    "    browser\n",
    "    .find_element(By.XPATH, \"//label[contains( text( ), 'How did you hear about this job?')]\")\n",
    "    .find_element(By.CSS_SELECTOR, \"input[type='text']\")\n",
    ")\n",
    "el.send_keys(\"google search\")\n",
    "def select_from_dropdown(label_text, value_to_select=None, visible_text_to_select=None):\n",
    "    label = (\n",
    "        browser\n",
    "        .find_element(By.XPATH, f\"//label[contains( text( ), '{label_text}')]\")\n",
    "    )\n",
    "    div = label.find_element(By.CSS_SELECTOR, \"div.select2-container\")\n",
    "    div.click()\n",
    "    select = label.find_element(By.TAG_NAME, \"select\")\n",
    "    browser.execute_script(\"arguments[0].style.display = 'block';\", select)\n",
    "    select = Select(select)\n",
    "    if value_to_select:\n",
    "        select.select_by_value(value_to_select)\n",
    "    elif visible_text_to_select:\n",
    "        select.select_by_visible_text(visible_text_to_select)\n",
    "\n",
    "\n",
    "label = (\n",
    "    browser\n",
    "    .find_element(By.XPATH, \"//label[contains( text( ), 'Are you legally authorized authorized to work in the United States or Canada?')]\")\n",
    ")\n",
    "div = label.find_element(By.CSS_SELECTOR, \"div.select2-container\")\n",
    "div.click()\n",
    "select = label.find_element(By.TAG_NAME, \"select\")\n",
    "browser.execute_script(\"arguments[0].style.display = 'block';\", select)\n",
    "Select(select).select_by_value(\"1\")\n",
    "\n",
    "select_from_dropdown(\n",
    "    \"At the time of hire, will you be located within 50 miles of one of our hubs? If so, please select which location. If not, please select “N/A” and input your city and state/province in the field below\",\n",
    "    visible_text_to_select=\"New York, NY\"\n",
    ")"
   ]
  },
  {
   "cell_type": "code",
   "execution_count": 104,
   "metadata": {},
   "outputs": [],
   "source": [
    "content = 'At the time of hire, will you be located within 50 miles of one of our hubs? If so, please select which location. If not, please select “N/A” and input your city and state/province in the field below'\n",
    "\n",
    "label = (\n",
    "    browser\n",
    "    .find_element(By.XPATH, f\"//label[contains( text( ), '{content}')]\")\n",
    ")\n",
    "div = label.find_element(By.CSS_SELECTOR, \"div.select2-container\")\n",
    "div.click()\n",
    "select = label.find_element(By.TAG_NAME, \"select\")\n",
    "browser.execute_script(\"arguments[0].style.display = 'block';\", select)\n",
    "Select(select).select_by_visible_text(\"New York, NY\")"
   ]
  },
  {
   "cell_type": "code",
   "execution_count": 89,
   "metadata": {},
   "outputs": [],
   "source": [
    "\n"
   ]
  },
  {
   "cell_type": "code",
   "execution_count": null,
   "metadata": {},
   "outputs": [],
   "source": []
  },
  {
   "cell_type": "code",
   "execution_count": null,
   "metadata": {},
   "outputs": [],
   "source": []
  },
  {
   "cell_type": "code",
   "execution_count": null,
   "metadata": {},
   "outputs": [],
   "source": []
  },
  {
   "cell_type": "code",
   "execution_count": null,
   "metadata": {},
   "outputs": [],
   "source": []
  },
  {
   "cell_type": "code",
   "execution_count": null,
   "metadata": {},
   "outputs": [],
   "source": []
  },
  {
   "cell_type": "code",
   "execution_count": null,
   "metadata": {},
   "outputs": [],
   "source": [
    "\n",
    "attach_button = browser.find_element(By.CSS_SELECTOR, \"fieldset#resume_fieldset button[data-source='attach']\")\n",
    "action_chain.move_to_element(attach_button).perform()\n",
    "attach_button.send_keys(Keys.RETURN)\n",
    "pyautogui.moveTo(1440/2, 900/2, duration=1)\n",
    "pyautogui.click()\n",
    "\n",
    "pyautogui.typewrite(\"dow\", .3)"
   ]
  },
  {
   "cell_type": "code",
   "execution_count": null,
   "metadata": {},
   "outputs": [],
   "source": []
  },
  {
   "cell_type": "code",
   "execution_count": null,
   "metadata": {},
   "outputs": [],
   "source": []
  },
  {
   "cell_type": "code",
   "execution_count": null,
   "metadata": {},
   "outputs": [],
   "source": []
  },
  {
   "cell_type": "code",
   "execution_count": null,
   "metadata": {},
   "outputs": [],
   "source": []
  },
  {
   "cell_type": "code",
   "execution_count": null,
   "metadata": {},
   "outputs": [],
   "source": []
  },
  {
   "cell_type": "code",
   "execution_count": null,
   "metadata": {},
   "outputs": [],
   "source": []
  },
  {
   "cell_type": "code",
   "execution_count": 10,
   "metadata": {},
   "outputs": [],
   "source": []
  },
  {
   "cell_type": "code",
   "execution_count": null,
   "metadata": {},
   "outputs": [],
   "source": []
  },
  {
   "cell_type": "code",
   "execution_count": null,
   "metadata": {},
   "outputs": [],
   "source": []
  },
  {
   "cell_type": "code",
   "execution_count": null,
   "metadata": {},
   "outputs": [],
   "source": []
  },
  {
   "cell_type": "code",
   "execution_count": null,
   "metadata": {},
   "outputs": [],
   "source": []
  },
  {
   "cell_type": "code",
   "execution_count": null,
   "metadata": {},
   "outputs": [],
   "source": []
  },
  {
   "cell_type": "code",
   "execution_count": null,
   "metadata": {},
   "outputs": [],
   "source": []
  },
  {
   "cell_type": "code",
   "execution_count": null,
   "metadata": {},
   "outputs": [],
   "source": []
  }
 ],
 "metadata": {
  "kernelspec": {
   "display_name": "venv",
   "language": "python",
   "name": "python3"
  },
  "language_info": {
   "codemirror_mode": {
    "name": "ipython",
    "version": 3
   },
   "file_extension": ".py",
   "mimetype": "text/x-python",
   "name": "python",
   "nbconvert_exporter": "python",
   "pygments_lexer": "ipython3",
   "version": "3.11.1"
  }
 },
 "nbformat": 4,
 "nbformat_minor": 2
}

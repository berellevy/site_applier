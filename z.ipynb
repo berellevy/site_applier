{
 "cells": [
  {
   "cell_type": "code",
   "execution_count": 1,
   "metadata": {},
   "outputs": [],
   "source": [
    "%load_ext autoreload\n",
    "%autoreload 2"
   ]
  },
  {
   "cell_type": "code",
   "execution_count": 2,
   "metadata": {},
   "outputs": [],
   "source": [
    "\n",
    "import pandas as pd\n",
    "from browser import *\n",
    "\n",
    "\n",
    "import xpaths\n",
    "browser = get_browser()"
   ]
  },
  {
   "cell_type": "code",
   "execution_count": 3,
   "metadata": {},
   "outputs": [],
   "source": [
    "url = r\"https://etsy.wd5.myworkdayjobs.com/Etsy_Careers/job/Brooklyn-New-York/Staff-Engineer-I_JR3440?source=LinkedIn\"\n",
    "\n",
    "browser.get(url)\n",
    "\n"
   ]
  },
  {
   "cell_type": "code",
   "execution_count": 68,
   "metadata": {},
   "outputs": [
    {
     "name": "stdout",
     "output_type": "stream",
     "text": [
      "<pages.MyInformation object at 0x125bfb200>\n",
      "{'page': 'My Information', 'field_type': 'TextInput', 'field_name': 'Last Name*'} Levy\n"
     ]
    }
   ],
   "source": [
    "\n",
    "from form_fields import BaseFormField, Radio\n",
    "from browser import *\n",
    "\n",
    "from pages import get_current_page\n",
    "\n",
    "current_page = get_current_page(browser)\n",
    "# current_page.next_page()\n",
    "print(current_page)\n",
    "f = current_page.fields[1]\n",
    "print(f.path, f.correct_answer)\n"
   ]
  },
  {
   "cell_type": "code",
   "execution_count": 54,
   "metadata": {},
   "outputs": [
    {
     "data": {
      "text/plain": [
       "'Dovber'"
      ]
     },
     "execution_count": 54,
     "metadata": {},
     "output_type": "execute_result"
    }
   ],
   "source": [
    "\n",
    "from answers import _df\n",
    "\n",
    "_df\n",
    "\n",
    "def get(\n",
    "    page: str = None,\n",
    "    field_type: str = None,\n",
    "    field_name: str = None,\n",
    "    section: str = None,\n",
    "    sub_section: str = None,\n",
    "):\n",
    "    \n",
    "    return _df.loc[\n",
    "        (_df[\"page\"].eq(page) if page else True) &\n",
    "        (_df[\"field_type\"].eq(field_type) if field_type else True) &\n",
    "        (_df[\"field_name\"].str.startswith(field_name) if field_name else True) &\n",
    "        (_df[\"section\"].eq(section) if section else True) &\n",
    "        (_df[\"sub_section\"].eq(sub_section) if sub_section else True) \n",
    "        ,\n",
    "        \"answer\"\n",
    "    ].values[0]\n",
    "get(page=\"My Information\", field_type=\"TextInput\", field_name=\"First\")"
   ]
  },
  {
   "cell_type": "code",
   "execution_count": 32,
   "metadata": {},
   "outputs": [
    {
     "ename": "AttributeError",
     "evalue": "'MyExperience' object has no attribute 'ANSWERS'",
     "output_type": "error",
     "traceback": [
      "\u001b[0;31m---------------------------------------------------------------------------\u001b[0m",
      "\u001b[0;31mAttributeError\u001b[0m                            Traceback (most recent call last)",
      "Cell \u001b[0;32mIn[32], line 14\u001b[0m\n\u001b[1;32m      8\u001b[0m \u001b[38;5;28;01mfrom\u001b[39;00m \u001b[38;5;21;01mform_fields\u001b[39;00m\u001b[38;5;21;01m.\u001b[39;00m\u001b[38;5;21;01mmonth_year\u001b[39;00m \u001b[38;5;28;01mimport\u001b[39;00m MonthYear\n\u001b[1;32m      9\u001b[0m \u001b[38;5;28;01mfrom\u001b[39;00m \u001b[38;5;21;01mxpaths\u001b[39;00m \u001b[38;5;28;01mimport\u001b[39;00m FORM_MONTH_YEAR\n\u001b[0;32m---> 14\u001b[0m \u001b[43mMonthYear\u001b[49m\u001b[38;5;241;43m.\u001b[39;49m\u001b[43mfind_all\u001b[49m\u001b[43m(\u001b[49m\u001b[43mcurrent_page\u001b[49m\u001b[38;5;241;43m.\u001b[39;49m\u001b[43mbrowser\u001b[49m\u001b[43m,\u001b[49m\u001b[43m \u001b[49m\u001b[43mcurrent_page\u001b[49m\u001b[43m,\u001b[49m\u001b[43m \u001b[49m\u001b[43mxpaths\u001b[49m\u001b[38;5;241;43m.\u001b[39;49m\u001b[43mFORM_MONTH_YEAR\u001b[49m\u001b[38;5;241;43m.\u001b[39;49m\u001b[43mremovesuffix\u001b[49m\u001b[43m(\u001b[49m\u001b[43mxpaths\u001b[49m\u001b[38;5;241;43m.\u001b[39;49m\u001b[43mMULTISECTION_EXCLUDER\u001b[49m\u001b[43m)\u001b[49m\u001b[43m)\u001b[49m\u001b[43m[\u001b[49m\u001b[38;5;241;43m0\u001b[39;49m\u001b[43m]\u001b[49m\u001b[38;5;241;43m.\u001b[39;49m\u001b[43mcorrect_answer\u001b[49m\n",
      "File \u001b[0;32m~/Desktop/job_applier/form_fields/base_form_field.py:39\u001b[0m, in \u001b[0;36mBaseFormField.correct_answer\u001b[0;34m(self)\u001b[0m\n\u001b[1;32m     30\u001b[0m \u001b[38;5;129m@property\u001b[39m\n\u001b[1;32m     31\u001b[0m \u001b[38;5;28;01mdef\u001b[39;00m \u001b[38;5;21mcorrect_answer\u001b[39m(\u001b[38;5;28mself\u001b[39m) \u001b[38;5;241m-\u001b[39m\u001b[38;5;241m>\u001b[39m \u001b[38;5;28mstr\u001b[39m:\n\u001b[1;32m     32\u001b[0m \u001b[38;5;250m  \u001b[39m\u001b[38;5;124;03m\"\"\"\u001b[39;00m\n\u001b[1;32m     33\u001b[0m \u001b[38;5;124;03m  if an exact match isn't found, it then searches for an answer whos key\u001b[39;00m\n\u001b[1;32m     34\u001b[0m \u001b[38;5;124;03m  matches the beginning of the field name.\u001b[39;00m\n\u001b[0;32m   (...)\u001b[0m\n\u001b[1;32m     37\u001b[0m \u001b[38;5;124;03m  will match the answer key \"Have you worked at\"\u001b[39;00m\n\u001b[1;32m     38\u001b[0m \u001b[38;5;124;03m  \"\"\"\u001b[39;00m\n\u001b[0;32m---> 39\u001b[0m   answers \u001b[38;5;241m=\u001b[39m \u001b[38;5;28;43mself\u001b[39;49m\u001b[38;5;241;43m.\u001b[39;49m\u001b[43mparent_section\u001b[49m\u001b[38;5;241;43m.\u001b[39;49m\u001b[43mANSWERS\u001b[49m\u001b[38;5;241m.\u001b[39mget((\u001b[38;5;28mtype\u001b[39m(\u001b[38;5;28mself\u001b[39m)))\n\u001b[1;32m     40\u001b[0m   \u001b[38;5;28;01mreturn\u001b[39;00m answers\u001b[38;5;241m.\u001b[39mget(\u001b[38;5;28mself\u001b[39m\u001b[38;5;241m.\u001b[39mname) \u001b[38;5;129;01mor\u001b[39;00m key_is_prefix(answers, \u001b[38;5;28mself\u001b[39m\u001b[38;5;241m.\u001b[39mname)\n",
      "\u001b[0;31mAttributeError\u001b[0m: 'MyExperience' object has no attribute 'ANSWERS'"
     ]
    }
   ],
   "source": [
    "from form_fields.base_form_field import BaseFormField\n",
    "from form_fields.dropdown import Dropdown\n",
    "from form_fields.multi_section import MultiSection\n",
    "from form_fields.multiselect_search import MultiselectSearchField\n",
    "from form_fields.radio import Radio\n",
    "from form_fields.single_checkbox import SingleCheckBox\n",
    "from form_fields.text_input import TextInput\n",
    "from form_fields.month_year import MonthYear\n",
    "from xpaths import FORM_MONTH_YEAR\n",
    "\n",
    "\n",
    "\n",
    "\n",
    "MonthYear.find_all(current_page.browser, current_page, xpaths.FORM_MONTH_YEAR.removesuffix(xpaths.MULTISECTION_EXCLUDER))[0].correct_answer\n"
   ]
  }
 ],
 "metadata": {
  "kernelspec": {
   "display_name": "venv",
   "language": "python",
   "name": "python3"
  },
  "language_info": {
   "codemirror_mode": {
    "name": "ipython",
    "version": 3
   },
   "file_extension": ".py",
   "mimetype": "text/x-python",
   "name": "python",
   "nbconvert_exporter": "python",
   "pygments_lexer": "ipython3",
   "version": "3.12.3"
  }
 },
 "nbformat": 4,
 "nbformat_minor": 2
}

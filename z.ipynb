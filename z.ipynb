{
 "cells": [
  {
   "cell_type": "code",
   "execution_count": 1,
   "metadata": {},
   "outputs": [
    {
     "name": "stdout",
     "output_type": "stream",
     "text": [
      "The autoreload extension is already loaded. To reload it, use:\n",
      "  %reload_ext autoreload\n"
     ]
    }
   ],
   "source": [
    "%load_ext autoreload\n",
    "%autoreload 2"
   ]
  },
  {
   "cell_type": "code",
   "execution_count": 2,
   "metadata": {},
   "outputs": [],
   "source": [
    "\n",
    "import pandas as pd\n",
    "from browser import *\n",
    "\n",
    "\n",
    "import xpaths\n",
    "browser = get_browser()"
   ]
  },
  {
   "cell_type": "code",
   "execution_count": 3,
   "metadata": {},
   "outputs": [],
   "source": [
    "url_no_longer_exists = r\"https://etsy.wd5.myworkdayjobs.com/Etsy_Careers/job/Brooklyn-New-York/Staff-Engineer-I_JR3440?source=LinkedIn\"\n",
    "url = r\"https://etsy.wd5.myworkdayjobs.com/Etsy_Careers/job/Brooklyn-New-York/Senior-Integration-Engineer-II--IT-Engineering_JR3369/apply\"\n",
    "browser.get(url)\n",
    "\n"
   ]
  },
  {
   "cell_type": "code",
   "execution_count": 117,
   "metadata": {},
   "outputs": [],
   "source": [
    "\n",
    "from pages import get_current_page\n",
    "from browser import wait_for_element\n",
    "\n",
    "current_page = get_current_page(browser)\n",
    "field = current_page.fields[1]\n",
    "field.fill()\n",
    "\n",
    "\n",
    "# current_page.fields\n",
    "# f = current_page.fields[2]\n",
    "# f.fill\n",
    "\n"
   ]
  },
  {
   "cell_type": "code",
   "execution_count": 113,
   "metadata": {},
   "outputs": [
    {
     "data": {
      "text/plain": [
       "<selenium.webdriver.remote.webelement.WebElement (session=\"d456cc207a854ee5fde8e4f7eb29a31b\", element=\"f.DD0AAF092083BB59B5AD8A0594D33AA1.d.5DB3F8E9D3B2C7EB989CDAEE825E9897.e.42254\")>"
      ]
     },
     "execution_count": 113,
     "metadata": {},
     "output_type": "execute_result"
    }
   ],
   "source": [
    "find_element(\n",
    "        field.element, \n",
    "        XP,\n",
    "        \"\"\".//span[\n",
    "        @data-automation-id='promptIcon' or @data-automation-id='promptSearchButton'\n",
    "        ]\"\"\"\n",
    "      )"
   ]
  }
 ],
 "metadata": {
  "kernelspec": {
   "display_name": "venv",
   "language": "python",
   "name": "python3"
  },
  "language_info": {
   "codemirror_mode": {
    "name": "ipython",
    "version": 3
   },
   "file_extension": ".py",
   "mimetype": "text/x-python",
   "name": "python",
   "nbconvert_exporter": "python",
   "pygments_lexer": "ipython3",
   "version": "3.12.4"
  }
 },
 "nbformat": 4,
 "nbformat_minor": 2
}

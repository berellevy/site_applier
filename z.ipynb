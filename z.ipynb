{
 "cells": [
  {
   "cell_type": "code",
   "execution_count": 2,
   "metadata": {},
   "outputs": [],
   "source": [
    "import pandas as pd\n",
    "from browser import *\n",
    "import xpaths\n",
    "from workday import *\n",
    "browser = get_browser()"
   ]
  },
  {
   "cell_type": "code",
   "execution_count": 3,
   "metadata": {},
   "outputs": [],
   "source": [
    "url = r\"https://etsy.wd5.myworkdayjobs.com/Etsy_Careers/job/Brooklyn-New-York/Staff-Engineer-I_JR3440?source=LinkedIn\"\n",
    "\n",
    "browser.get(url)"
   ]
  },
  {
   "cell_type": "code",
   "execution_count": 40,
   "metadata": {},
   "outputs": [
    {
     "data": {
      "text/plain": [
       "False"
      ]
     },
     "execution_count": 40,
     "metadata": {},
     "output_type": "execute_result"
    }
   ],
   "source": [
    "\n",
    "from form_fields import BaseFormField, Radio\n",
    "\n",
    "from pages import get_current_page\n",
    "\n",
    "current_page = get_current_page(browser)\n",
    "\n",
    "current_page.fields[2].sub_sections[0].form_fields[0].answer"
   ]
  },
  {
   "cell_type": "code",
   "execution_count": 16,
   "metadata": {},
   "outputs": [
    {
     "data": {
      "text/plain": [
       "[]"
      ]
     },
     "execution_count": 16,
     "metadata": {},
     "output_type": "execute_result"
    }
   ],
   "source": [
    "from form_fields.dropdown import Dropdown\n",
    "from form_fields.multi_section import MultiSection\n",
    "from form_fields.multiselect_search import MultiselectSearchField\n",
    "from form_fields.radio import Radio\n",
    "from form_fields.single_checkbox import SingleCheckBox\n",
    "from form_fields.text_input import TextInput\n",
    "\n",
    "\n",
    "\n",
    "SingleCheckBox.find_all(current_page.browser, current_page, xpaths.FORM_SINGLE_CHECKBOX)"
   ]
  },
  {
   "cell_type": "code",
   "execution_count": 37,
   "metadata": {},
   "outputs": [
    {
     "data": {
      "text/plain": [
       "'b'"
      ]
     },
     "execution_count": 37,
     "metadata": {},
     "output_type": "execute_result"
    }
   ],
   "source": [
    "d = {\"a\": \"b\"}\n",
    "\n",
    "def key_startswith(d: dict, lookup: str):\n",
    "  \"\"\"\n",
    "  Access a key in a dict even if the key only matches part of the lookup prefix.\n",
    "  Not efficient at all. Only good for small dicts. (oh baby)\n",
    "  \"\"\"\n",
    "  for key in (d):\n",
    "    if lookup.startswith(key):\n",
    "      return d[key]\n",
    "    \n",
    "key_startswith(d, \"a\")"
   ]
  }
 ],
 "metadata": {
  "kernelspec": {
   "display_name": "venv",
   "language": "python",
   "name": "python3"
  },
  "language_info": {
   "codemirror_mode": {
    "name": "ipython",
    "version": 3
   },
   "file_extension": ".py",
   "mimetype": "text/x-python",
   "name": "python",
   "nbconvert_exporter": "python",
   "pygments_lexer": "ipython3",
   "version": "3.11.1"
  }
 },
 "nbformat": 4,
 "nbformat_minor": 2
}

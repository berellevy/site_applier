{
 "cells": [
  {
   "cell_type": "code",
   "execution_count": 1,
   "metadata": {},
   "outputs": [],
   "source": [
    "import pandas as pd\n",
    "from browser import *\n",
    "import xpaths\n",
    "from workday import *\n",
    "browser = get_browser()"
   ]
  },
  {
   "cell_type": "code",
   "execution_count": 2,
   "metadata": {},
   "outputs": [],
   "source": [
    "url = r\"https://etsy.wd5.myworkdayjobs.com/Etsy_Careers/job/Brooklyn-New-York/Staff-Engineer-I_JR3440?source=LinkedIn\"\n",
    "\n",
    "browser.get(url)"
   ]
  },
  {
   "cell_type": "code",
   "execution_count": 10,
   "metadata": {},
   "outputs": [
    {
     "data": {
      "text/plain": [
       "[<TextInput: Please provide your LinkedIn URL:>,\n",
       " <MultiselectSearchField: Type to Add Skills>,\n",
       " <MultiSection: Work Experience>,\n",
       " <MultiSection: Education>,\n",
       " <MultiSection: Languages>,\n",
       " <MultiSection: Websites>]"
      ]
     },
     "execution_count": 10,
     "metadata": {},
     "output_type": "execute_result"
    }
   ],
   "source": [
    "\n",
    "from form_fields import BaseFormField, Radio\n",
    "\n",
    "from pages import get_current_page\n",
    "\n",
    "current_page = get_current_page(browser)\n",
    "current_page.fields"
   ]
  },
  {
   "cell_type": "code",
   "execution_count": 21,
   "metadata": {},
   "outputs": [
    {
     "name": "stdout",
     "output_type": "stream",
     "text": [
      "//div[starts-with(@data-automation-id, 'formField-')][.//input[@type='text'] or .//input[@type='password']][not(.//*[@aria-haspopup])][not(ancestor::div[substring(@data-automation-id, string-length(@data-automation-id) - string-length('Section') + 1) = 'Section']  [.//button[starts-with(text(), 'Add')]])]\n"
     ]
    },
    {
     "data": {
      "text/plain": [
       "[<TextInput: Please provide your LinkedIn URL:>]"
      ]
     },
     "execution_count": 21,
     "metadata": {},
     "output_type": "execute_result"
    }
   ],
   "source": [
    "from form_fields.dropdown import Dropdown\n",
    "from form_fields.multi_section import MultiSection\n",
    "from form_fields.multiselect_search import MultiselectSearchField\n",
    "from form_fields.radio import Radio\n",
    "from form_fields.text_input import TextInput\n",
    "\n",
    "\n",
    "\n",
    "TextInput.find_all(current_page.browser, current_page, xpaths.FORM_TEXT_INPUT)"
   ]
  },
  {
   "cell_type": "code",
   "execution_count": 37,
   "metadata": {},
   "outputs": [
    {
     "data": {
      "text/plain": [
       "'b'"
      ]
     },
     "execution_count": 37,
     "metadata": {},
     "output_type": "execute_result"
    }
   ],
   "source": [
    "d = {\"a\": \"b\"}\n",
    "\n",
    "def key_startswith(d: dict, lookup: str):\n",
    "  \"\"\"\n",
    "  Access a key in a dict even if the key only matches part of the lookup prefix.\n",
    "  Not efficient at all. Only good for small dicts. (oh baby)\n",
    "  \"\"\"\n",
    "  for key in (d):\n",
    "    if lookup.startswith(key):\n",
    "      return d[key]\n",
    "    \n",
    "key_startswith(d, \"a\")"
   ]
  }
 ],
 "metadata": {
  "kernelspec": {
   "display_name": "venv",
   "language": "python",
   "name": "python3"
  },
  "language_info": {
   "codemirror_mode": {
    "name": "ipython",
    "version": 3
   },
   "file_extension": ".py",
   "mimetype": "text/x-python",
   "name": "python",
   "nbconvert_exporter": "python",
   "pygments_lexer": "ipython3",
   "version": "3.11.1"
  }
 },
 "nbformat": 4,
 "nbformat_minor": 2
}

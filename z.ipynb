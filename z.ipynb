{
 "cells": [
  {
   "cell_type": "code",
   "execution_count": 1,
   "metadata": {},
   "outputs": [],
   "source": [
    "%load_ext autoreload\n",
    "%autoreload 2"
   ]
  },
  {
   "cell_type": "code",
   "execution_count": 2,
   "metadata": {},
   "outputs": [],
   "source": [
    "\n",
    "import pandas as pd\n",
    "from utils import *\n",
    "\n",
    "\n",
    "import utils.xpaths as xpaths\n",
    "browser = get_browser()"
   ]
  },
  {
   "cell_type": "code",
   "execution_count": 3,
   "metadata": {},
   "outputs": [],
   "source": [
    "url = r\"https://ryan.wd1.myworkdayjobs.com/en-US/TaxJobs/job/Dallas/Senior-Full-Stack-Developer--Software-Development_R0014446-2\"\n",
    "browser.get(url)\n",
    "\n"
   ]
  },
  {
   "cell_type": "code",
   "execution_count": 39,
   "metadata": {},
   "outputs": [
    {
     "data": {
      "text/plain": [
       "{'page': 'My Experience',\n",
       " 'field_type': 'TextInput',\n",
       " 'field_name': 'LinkedIn',\n",
       " 'answer': 'https://www.linkedin.com/in/berellevy/'}"
      ]
     },
     "execution_count": 39,
     "metadata": {},
     "output_type": "execute_result"
    }
   ],
   "source": [
    "\n",
    "from pages import get_current_page\n",
    "current_page = get_current_page(browser)\n",
    "\n",
    "\n",
    "(\n",
    "  # f.path_and_current_answer for f in\n",
    "  current_page\n",
    "  .fields[0]\n",
    "\n",
    "\n",
    "  # .correct_answer\n",
    "  # .answer\n",
    "  # .is_checked\n",
    "  # .is_filled\n",
    "  # .next_page()\n",
    ")\n",
    "\n",
    "\n",
    "\n",
    "\n"
   ]
  },
  {
   "cell_type": "code",
   "execution_count": 10,
   "metadata": {},
   "outputs": [
    {
     "data": {
      "text/plain": [
       "<pages.SignIn at 0x113a7fc80>"
      ]
     },
     "execution_count": 10,
     "metadata": {},
     "output_type": "execute_result"
    }
   ],
   "source": [
    "import pages\n",
    "(\n",
    "    pages.SignIn\n",
    "    .is_current(browser)\n",
    "    # .XPATH\n",
    ")"
   ]
  }
 ],
 "metadata": {
  "kernelspec": {
   "display_name": "venv",
   "language": "python",
   "name": "python3"
  },
  "language_info": {
   "codemirror_mode": {
    "name": "ipython",
    "version": 3
   },
   "file_extension": ".py",
   "mimetype": "text/x-python",
   "name": "python",
   "nbconvert_exporter": "python",
   "pygments_lexer": "ipython3",
   "version": "3.12.3"
  }
 },
 "nbformat": 4,
 "nbformat_minor": 2
}

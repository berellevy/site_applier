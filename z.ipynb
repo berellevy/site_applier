{
 "cells": [
  {
   "cell_type": "code",
   "execution_count": 1,
   "metadata": {},
   "outputs": [],
   "source": [
    "from browser import get_browser, ActionChains\n",
    "\n",
    "\n",
    "browser = get_browser()\n",
    "\n",
    "action_chain = ActionChains(browser)\n",
    "\n",
    "\n"
   ]
  },
  {
   "cell_type": "code",
   "execution_count": 50,
   "metadata": {},
   "outputs": [],
   "source": [
    "from workday import *\n",
    "\n",
    "\n",
    "# apply(\n",
    "#     r\"https://fox.wd1.myworkdayjobs.com/en-US/Domestic/login?redirect=%2Fen-US%2FDomestic%2Fjob%2FUSA---CA---Los-Angeles---10201-W.-Pico-Blvd%2FSenior-Software-Engineer_R50023521%2Fapply%2FapplyManually\",\n",
    "#     browser,\n",
    "#     action_chain,\n",
    "# )"
   ]
  },
  {
   "cell_type": "code",
   "execution_count": 57,
   "metadata": {},
   "outputs": [],
   "source": [
    "text_input(browser, \"legalNameSection_firstName\", \"Dovber\", )\n",
    "text_input(browser, \"legalNameSection_lastName\", \"Levy\", )\n",
    "text_input(browser, \"addressSection_addressLine1\", \"575 East ny\", )\n",
    "text_input(browser, \"addressSection_city\", \"brooklyn\", )\n",
    "# simple_dropdown(browser, \"addressSection_countryRegion\", \"New York\")\n",
    "text_input(browser, \"addressSection_postalCode\", \"11225\", )\n",
    "text_input(browser, \"phone-number\", \"9176798518\", )"
   ]
  },
  {
   "cell_type": "code",
   "execution_count": 21,
   "metadata": {},
   "outputs": [
    {
     "data": {
      "text/plain": [
       "<selenium.webdriver.chrome.webdriver.WebDriver (session=\"8f15824eba7fa779ddbe929a43272a88\")>"
      ]
     },
     "execution_count": 21,
     "metadata": {},
     "output_type": "execute_result"
    }
   ],
   "source": [
    "l.parent.find_element()"
   ]
  },
  {
   "cell_type": "code",
   "execution_count": 106,
   "metadata": {},
   "outputs": [],
   "source": [
    "import keyboard\n",
    "browser.find_element(By.ID, \"first_name\").send_keys(\"Dovber\")\n",
    "browser.find_element(By.ID, \"last_name\").send_keys(\"Levy\")\n",
    "browser.find_element(By.ID, \"email\").send_keys(\"berellevy@gmail.com\")\n",
    "browser.find_element(By.ID, \"phone\").send_keys(\"9176798518\")\n",
    "(\n",
    "    browser\n",
    "    .find_element(By.XPATH, \"//label[contains( text( ), 'LinkedIn Profile')]\")\n",
    "    .find_element(By.CSS_SELECTOR, \"input[type='text']\")\n",
    "    .send_keys(\"https://www.linkedin.com/in/berellevy/\")\n",
    ")\n",
    "el = (\n",
    "    browser\n",
    "    .find_element(By.XPATH, \"//label[contains( text( ), 'How did you hear about this job?')]\")\n",
    "    .find_element(By.CSS_SELECTOR, \"input[type='text']\")\n",
    ")\n",
    "el.send_keys(\"google search\")\n",
    "def select_from_dropdown(label_text, value_to_select=None, visible_text_to_select=None):\n",
    "    label = (\n",
    "        browser\n",
    "        .find_element(By.XPATH, f\"//label[contains( text( ), '{label_text}')]\")\n",
    "    )\n",
    "    div = label.find_element(By.CSS_SELECTOR, \"div.select2-container\")\n",
    "    div.click()\n",
    "    select = label.find_element(By.TAG_NAME, \"select\")\n",
    "    browser.execute_script(\"arguments[0].style.display = 'block';\", select)\n",
    "    select = Select(select)\n",
    "    if value_to_select:\n",
    "        select.select_by_value(value_to_select)\n",
    "    elif visible_text_to_select:\n",
    "        select.select_by_visible_text(visible_text_to_select)\n",
    "\n",
    "\n",
    "label = (\n",
    "    browser\n",
    "    .find_element(By.XPATH, \"//label[contains( text( ), 'Are you legally authorized authorized to work in the United States or Canada?')]\")\n",
    ")\n",
    "div = label.find_element(By.CSS_SELECTOR, \"div.select2-container\")\n",
    "div.click()\n",
    "select = label.find_element(By.TAG_NAME, \"select\")\n",
    "browser.execute_script(\"arguments[0].style.display = 'block';\", select)\n",
    "Select(select).select_by_value(\"1\")\n",
    "\n",
    "select_from_dropdown(\n",
    "    \"At the time of hire, will you be located within 50 miles of one of our hubs? If so, please select which location. If not, please select “N/A” and input your city and state/province in the field below\",\n",
    "    visible_text_to_select=\"New York, NY\"\n",
    ")"
   ]
  },
  {
   "cell_type": "code",
   "execution_count": 104,
   "metadata": {},
   "outputs": [],
   "source": [
    "content = 'At the time of hire, will you be located within 50 miles of one of our hubs? If so, please select which location. If not, please select “N/A” and input your city and state/province in the field below'\n",
    "\n",
    "label = (\n",
    "    browser\n",
    "    .find_element(By.XPATH, f\"//label[contains( text( ), '{content}')]\")\n",
    ")\n",
    "div = label.find_element(By.CSS_SELECTOR, \"div.select2-container\")\n",
    "div.click()\n",
    "select = label.find_element(By.TAG_NAME, \"select\")\n",
    "browser.execute_script(\"arguments[0].style.display = 'block';\", select)\n",
    "Select(select).select_by_visible_text(\"New York, NY\")"
   ]
  },
  {
   "cell_type": "code",
   "execution_count": 89,
   "metadata": {},
   "outputs": [],
   "source": [
    "\n"
   ]
  },
  {
   "cell_type": "code",
   "execution_count": null,
   "metadata": {},
   "outputs": [],
   "source": []
  },
  {
   "cell_type": "code",
   "execution_count": null,
   "metadata": {},
   "outputs": [],
   "source": []
  },
  {
   "cell_type": "code",
   "execution_count": null,
   "metadata": {},
   "outputs": [],
   "source": []
  },
  {
   "cell_type": "code",
   "execution_count": null,
   "metadata": {},
   "outputs": [],
   "source": []
  },
  {
   "cell_type": "code",
   "execution_count": null,
   "metadata": {},
   "outputs": [],
   "source": []
  },
  {
   "cell_type": "code",
   "execution_count": null,
   "metadata": {},
   "outputs": [],
   "source": [
    "\n",
    "attach_button = browser.find_element(By.CSS_SELECTOR, \"fieldset#resume_fieldset button[data-source='attach']\")\n",
    "action_chain.move_to_element(attach_button).perform()\n",
    "attach_button.send_keys(Keys.RETURN)\n",
    "pyautogui.moveTo(1440/2, 900/2, duration=1)\n",
    "pyautogui.click()\n",
    "\n",
    "pyautogui.typewrite(\"dow\", .3)"
   ]
  },
  {
   "cell_type": "code",
   "execution_count": null,
   "metadata": {},
   "outputs": [],
   "source": []
  },
  {
   "cell_type": "code",
   "execution_count": null,
   "metadata": {},
   "outputs": [],
   "source": []
  },
  {
   "cell_type": "code",
   "execution_count": null,
   "metadata": {},
   "outputs": [],
   "source": []
  },
  {
   "cell_type": "code",
   "execution_count": null,
   "metadata": {},
   "outputs": [],
   "source": []
  },
  {
   "cell_type": "code",
   "execution_count": null,
   "metadata": {},
   "outputs": [],
   "source": []
  },
  {
   "cell_type": "code",
   "execution_count": null,
   "metadata": {},
   "outputs": [],
   "source": []
  },
  {
   "cell_type": "code",
   "execution_count": 10,
   "metadata": {},
   "outputs": [],
   "source": []
  },
  {
   "cell_type": "code",
   "execution_count": null,
   "metadata": {},
   "outputs": [],
   "source": []
  },
  {
   "cell_type": "code",
   "execution_count": null,
   "metadata": {},
   "outputs": [],
   "source": []
  },
  {
   "cell_type": "code",
   "execution_count": null,
   "metadata": {},
   "outputs": [],
   "source": []
  },
  {
   "cell_type": "code",
   "execution_count": null,
   "metadata": {},
   "outputs": [],
   "source": []
  },
  {
   "cell_type": "code",
   "execution_count": null,
   "metadata": {},
   "outputs": [],
   "source": []
  },
  {
   "cell_type": "code",
   "execution_count": null,
   "metadata": {},
   "outputs": [],
   "source": []
  },
  {
   "cell_type": "code",
   "execution_count": null,
   "metadata": {},
   "outputs": [],
   "source": []
  }
 ],
 "metadata": {
  "kernelspec": {
   "display_name": "venv",
   "language": "python",
   "name": "python3"
  },
  "language_info": {
   "codemirror_mode": {
    "name": "ipython",
    "version": 3
   },
   "file_extension": ".py",
   "mimetype": "text/x-python",
   "name": "python",
   "nbconvert_exporter": "python",
   "pygments_lexer": "ipython3",
   "version": "3.11.1"
  }
 },
 "nbformat": 4,
 "nbformat_minor": 2
}

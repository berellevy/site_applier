{
 "cells": [
  {
   "cell_type": "code",
   "execution_count": 1,
   "metadata": {},
   "outputs": [
    {
     "ename": "ModuleNotFoundError",
     "evalue": "No module named 'dotenv'",
     "output_type": "error",
     "traceback": [
      "\u001b[1;31m---------------------------------------------------------------------------\u001b[0m",
      "\u001b[1;31mModuleNotFoundError\u001b[0m                       Traceback (most recent call last)",
      "Cell \u001b[1;32mIn[1], line 1\u001b[0m\n\u001b[1;32m----> 1\u001b[0m \u001b[38;5;28;01mfrom\u001b[39;00m \u001b[38;5;21;01mbrowser\u001b[39;00m \u001b[38;5;28;01mimport\u001b[39;00m get_browser, By, ActionChains, Keys\n\u001b[0;32m      2\u001b[0m \u001b[38;5;28;01mfrom\u001b[39;00m \u001b[38;5;21;01mselenium\u001b[39;00m\u001b[38;5;21;01m.\u001b[39;00m\u001b[38;5;21;01mwebdriver\u001b[39;00m\u001b[38;5;21;01m.\u001b[39;00m\u001b[38;5;21;01msupport\u001b[39;00m\u001b[38;5;21;01m.\u001b[39;00m\u001b[38;5;21;01mui\u001b[39;00m \u001b[38;5;28;01mimport\u001b[39;00m Select\n\u001b[0;32m      4\u001b[0m \u001b[38;5;28;01mimport\u001b[39;00m \u001b[38;5;21;01mpyautogui\u001b[39;00m\n",
      "File \u001b[1;32mc:\\Users\\berel\\Desktop\\site_applier\\browser.py:10\u001b[0m\n\u001b[0;32m      7\u001b[0m \u001b[38;5;28;01mfrom\u001b[39;00m \u001b[38;5;21;01mselenium\u001b[39;00m\u001b[38;5;21;01m.\u001b[39;00m\u001b[38;5;21;01mwebdriver\u001b[39;00m\u001b[38;5;21;01m.\u001b[39;00m\u001b[38;5;21;01mcommon\u001b[39;00m\u001b[38;5;21;01m.\u001b[39;00m\u001b[38;5;21;01maction_chains\u001b[39;00m \u001b[38;5;28;01mimport\u001b[39;00m ActionChains\n\u001b[0;32m      8\u001b[0m \u001b[38;5;28;01mfrom\u001b[39;00m \u001b[38;5;21;01mselenium\u001b[39;00m\u001b[38;5;21;01m.\u001b[39;00m\u001b[38;5;21;01mcommon\u001b[39;00m\u001b[38;5;21;01m.\u001b[39;00m\u001b[38;5;21;01mexceptions\u001b[39;00m \u001b[38;5;28;01mimport\u001b[39;00m NoSuchElementException\n\u001b[1;32m---> 10\u001b[0m \u001b[38;5;28;01mfrom\u001b[39;00m \u001b[38;5;21;01mdotenv\u001b[39;00m \u001b[38;5;28;01mimport\u001b[39;00m load_dotenv\n\u001b[0;32m     12\u001b[0m load_dotenv()\n\u001b[0;32m     15\u001b[0m \u001b[38;5;28;01mdef\u001b[39;00m \u001b[38;5;21mget_browser\u001b[39m() \u001b[38;5;241m-\u001b[39m\u001b[38;5;241m>\u001b[39m webdriver\u001b[38;5;241m.\u001b[39mChrome:\n",
      "\u001b[1;31mModuleNotFoundError\u001b[0m: No module named 'dotenv'"
     ]
    }
   ],
   "source": [
    "\n",
    "\n",
    "\n",
    "browser = get_browser()\n",
    "\n",
    "action_chain = ActionChains(browser)\n",
    "\n",
    "\n"
   ]
  },
  {
   "cell_type": "code",
   "execution_count": 1,
   "metadata": {},
   "outputs": [
    {
     "ename": "ModuleNotFoundError",
     "evalue": "No module named 'dotenv'",
     "output_type": "error",
     "traceback": [
      "\u001b[1;31m---------------------------------------------------------------------------\u001b[0m",
      "\u001b[1;31mModuleNotFoundError\u001b[0m                       Traceback (most recent call last)",
      "Cell \u001b[1;32mIn[1], line 1\u001b[0m\n\u001b[1;32m----> 1\u001b[0m \u001b[38;5;28;01mfrom\u001b[39;00m \u001b[38;5;21;01mworkday\u001b[39;00m \u001b[38;5;28;01mimport\u001b[39;00m apply\n\u001b[0;32m      4\u001b[0m apply(\n\u001b[0;32m      5\u001b[0m     \u001b[38;5;124mr\u001b[39m\u001b[38;5;124m\"\u001b[39m\u001b[38;5;124mhttps://fox.wd1.myworkdayjobs.com/en-US/Domestic/login?redirect=\u001b[39m\u001b[38;5;132;01m%2F\u001b[39;00m\u001b[38;5;124men-US\u001b[39m\u001b[38;5;132;01m%2F\u001b[39;00m\u001b[38;5;124mDomestic\u001b[39m\u001b[38;5;132;01m%2F\u001b[39;00m\u001b[38;5;124mjob\u001b[39m\u001b[38;5;132;01m%2F\u001b[39;00m\u001b[38;5;124mUSA---CA---Los-Angeles---10201-W.-Pico-Blvd\u001b[39m\u001b[38;5;132;01m%2F\u001b[39;00m\u001b[38;5;124mSenior-Software-Engineer_R50023521\u001b[39m\u001b[38;5;132;01m%2F\u001b[39;00m\u001b[38;5;124mapply\u001b[39m\u001b[38;5;132;01m%2F\u001b[39;00m\u001b[38;5;124mapplyManually\u001b[39m\u001b[38;5;124m\"\u001b[39m,\n\u001b[0;32m      6\u001b[0m     browser,\n\u001b[0;32m      7\u001b[0m     action_chain,\n\u001b[0;32m      8\u001b[0m )\n",
      "File \u001b[1;32mc:\\Users\\berel\\Desktop\\site_applier\\workday.py:2\u001b[0m\n\u001b[0;32m      1\u001b[0m \u001b[38;5;28;01mfrom\u001b[39;00m \u001b[38;5;21;01mtime\u001b[39;00m \u001b[38;5;28;01mimport\u001b[39;00m sleep\n\u001b[1;32m----> 2\u001b[0m \u001b[38;5;28;01mfrom\u001b[39;00m \u001b[38;5;21;01mbrowser\u001b[39;00m \u001b[38;5;28;01mimport\u001b[39;00m webdriver, By\n\u001b[0;32m      3\u001b[0m \u001b[38;5;28;01mimport\u001b[39;00m \u001b[38;5;21;01mos\u001b[39;00m\n\u001b[0;32m      6\u001b[0m CSS \u001b[38;5;241m=\u001b[39m By\u001b[38;5;241m.\u001b[39mCSS_SELECTOR\n",
      "File \u001b[1;32mc:\\Users\\berel\\Desktop\\site_applier\\browser.py:10\u001b[0m\n\u001b[0;32m      7\u001b[0m \u001b[38;5;28;01mfrom\u001b[39;00m \u001b[38;5;21;01mselenium\u001b[39;00m\u001b[38;5;21;01m.\u001b[39;00m\u001b[38;5;21;01mwebdriver\u001b[39;00m\u001b[38;5;21;01m.\u001b[39;00m\u001b[38;5;21;01mcommon\u001b[39;00m\u001b[38;5;21;01m.\u001b[39;00m\u001b[38;5;21;01maction_chains\u001b[39;00m \u001b[38;5;28;01mimport\u001b[39;00m ActionChains\n\u001b[0;32m      8\u001b[0m \u001b[38;5;28;01mfrom\u001b[39;00m \u001b[38;5;21;01mselenium\u001b[39;00m\u001b[38;5;21;01m.\u001b[39;00m\u001b[38;5;21;01mcommon\u001b[39;00m\u001b[38;5;21;01m.\u001b[39;00m\u001b[38;5;21;01mexceptions\u001b[39;00m \u001b[38;5;28;01mimport\u001b[39;00m NoSuchElementException\n\u001b[1;32m---> 10\u001b[0m \u001b[38;5;28;01mfrom\u001b[39;00m \u001b[38;5;21;01mdotenv\u001b[39;00m \u001b[38;5;28;01mimport\u001b[39;00m load_dotenv\n\u001b[0;32m     12\u001b[0m load_dotenv()\n\u001b[0;32m     15\u001b[0m \u001b[38;5;28;01mdef\u001b[39;00m \u001b[38;5;21mget_browser\u001b[39m() \u001b[38;5;241m-\u001b[39m\u001b[38;5;241m>\u001b[39m webdriver\u001b[38;5;241m.\u001b[39mChrome:\n",
      "\u001b[1;31mModuleNotFoundError\u001b[0m: No module named 'dotenv'"
     ]
    }
   ],
   "source": [
    "from workday import apply\n",
    "\n",
    "\n",
    "apply(\n",
    "    r\"https://fox.wd1.myworkdayjobs.com/en-US/Domestic/login?redirect=%2Fen-US%2FDomestic%2Fjob%2FUSA---CA---Los-Angeles---10201-W.-Pico-Blvd%2FSenior-Software-Engineer_R50023521%2Fapply%2FapplyManually\",\n",
    "    browser,\n",
    "    action_chain,\n",
    ")"
   ]
  },
  {
   "cell_type": "code",
   "execution_count": 106,
   "metadata": {},
   "outputs": [],
   "source": [
    "import keyboard\n",
    "browser.find_element(By.ID, \"first_name\").send_keys(\"Dovber\")\n",
    "browser.find_element(By.ID, \"last_name\").send_keys(\"Levy\")\n",
    "browser.find_element(By.ID, \"email\").send_keys(\"berellevy@gmail.com\")\n",
    "browser.find_element(By.ID, \"phone\").send_keys(\"9176798518\")\n",
    "(\n",
    "    browser\n",
    "    .find_element(By.XPATH, \"//label[contains( text( ), 'LinkedIn Profile')]\")\n",
    "    .find_element(By.CSS_SELECTOR, \"input[type='text']\")\n",
    "    .send_keys(\"https://www.linkedin.com/in/berellevy/\")\n",
    ")\n",
    "el = (\n",
    "    browser\n",
    "    .find_element(By.XPATH, \"//label[contains( text( ), 'How did you hear about this job?')]\")\n",
    "    .find_element(By.CSS_SELECTOR, \"input[type='text']\")\n",
    ")\n",
    "el.send_keys(\"google search\")\n",
    "def select_from_dropdown(label_text, value_to_select=None, visible_text_to_select=None):\n",
    "    label = (\n",
    "        browser\n",
    "        .find_element(By.XPATH, f\"//label[contains( text( ), '{label_text}')]\")\n",
    "    )\n",
    "    div = label.find_element(By.CSS_SELECTOR, \"div.select2-container\")\n",
    "    div.click()\n",
    "    select = label.find_element(By.TAG_NAME, \"select\")\n",
    "    browser.execute_script(\"arguments[0].style.display = 'block';\", select)\n",
    "    select = Select(select)\n",
    "    if value_to_select:\n",
    "        select.select_by_value(value_to_select)\n",
    "    elif visible_text_to_select:\n",
    "        select.select_by_visible_text(visible_text_to_select)\n",
    "\n",
    "\n",
    "label = (\n",
    "    browser\n",
    "    .find_element(By.XPATH, \"//label[contains( text( ), 'Are you legally authorized authorized to work in the United States or Canada?')]\")\n",
    ")\n",
    "div = label.find_element(By.CSS_SELECTOR, \"div.select2-container\")\n",
    "div.click()\n",
    "select = label.find_element(By.TAG_NAME, \"select\")\n",
    "browser.execute_script(\"arguments[0].style.display = 'block';\", select)\n",
    "Select(select).select_by_value(\"1\")\n",
    "\n",
    "select_from_dropdown(\n",
    "    \"At the time of hire, will you be located within 50 miles of one of our hubs? If so, please select which location. If not, please select “N/A” and input your city and state/province in the field below\",\n",
    "    visible_text_to_select=\"New York, NY\"\n",
    ")"
   ]
  },
  {
   "cell_type": "code",
   "execution_count": 104,
   "metadata": {},
   "outputs": [],
   "source": [
    "content = 'At the time of hire, will you be located within 50 miles of one of our hubs? If so, please select which location. If not, please select “N/A” and input your city and state/province in the field below'\n",
    "\n",
    "label = (\n",
    "    browser\n",
    "    .find_element(By.XPATH, f\"//label[contains( text( ), '{content}')]\")\n",
    ")\n",
    "div = label.find_element(By.CSS_SELECTOR, \"div.select2-container\")\n",
    "div.click()\n",
    "select = label.find_element(By.TAG_NAME, \"select\")\n",
    "browser.execute_script(\"arguments[0].style.display = 'block';\", select)\n",
    "Select(select).select_by_visible_text(\"New York, NY\")"
   ]
  },
  {
   "cell_type": "code",
   "execution_count": 89,
   "metadata": {},
   "outputs": [],
   "source": [
    "\n"
   ]
  },
  {
   "cell_type": "code",
   "execution_count": null,
   "metadata": {},
   "outputs": [],
   "source": []
  },
  {
   "cell_type": "code",
   "execution_count": null,
   "metadata": {},
   "outputs": [],
   "source": []
  },
  {
   "cell_type": "code",
   "execution_count": null,
   "metadata": {},
   "outputs": [],
   "source": []
  },
  {
   "cell_type": "code",
   "execution_count": null,
   "metadata": {},
   "outputs": [],
   "source": []
  },
  {
   "cell_type": "code",
   "execution_count": null,
   "metadata": {},
   "outputs": [],
   "source": []
  },
  {
   "cell_type": "code",
   "execution_count": null,
   "metadata": {},
   "outputs": [],
   "source": [
    "\n",
    "attach_button = browser.find_element(By.CSS_SELECTOR, \"fieldset#resume_fieldset button[data-source='attach']\")\n",
    "action_chain.move_to_element(attach_button).perform()\n",
    "attach_button.send_keys(Keys.RETURN)\n",
    "pyautogui.moveTo(1440/2, 900/2, duration=1)\n",
    "pyautogui.click()\n",
    "\n",
    "pyautogui.typewrite(\"dow\", .3)"
   ]
  },
  {
   "cell_type": "code",
   "execution_count": null,
   "metadata": {},
   "outputs": [],
   "source": []
  },
  {
   "cell_type": "code",
   "execution_count": null,
   "metadata": {},
   "outputs": [],
   "source": []
  },
  {
   "cell_type": "code",
   "execution_count": null,
   "metadata": {},
   "outputs": [],
   "source": []
  },
  {
   "cell_type": "code",
   "execution_count": null,
   "metadata": {},
   "outputs": [],
   "source": []
  },
  {
   "cell_type": "code",
   "execution_count": null,
   "metadata": {},
   "outputs": [],
   "source": []
  },
  {
   "cell_type": "code",
   "execution_count": null,
   "metadata": {},
   "outputs": [],
   "source": []
  },
  {
   "cell_type": "code",
   "execution_count": 10,
   "metadata": {},
   "outputs": [],
   "source": []
  },
  {
   "cell_type": "code",
   "execution_count": null,
   "metadata": {},
   "outputs": [],
   "source": []
  },
  {
   "cell_type": "code",
   "execution_count": null,
   "metadata": {},
   "outputs": [],
   "source": []
  },
  {
   "cell_type": "code",
   "execution_count": null,
   "metadata": {},
   "outputs": [],
   "source": []
  },
  {
   "cell_type": "code",
   "execution_count": null,
   "metadata": {},
   "outputs": [],
   "source": []
  },
  {
   "cell_type": "code",
   "execution_count": null,
   "metadata": {},
   "outputs": [],
   "source": []
  },
  {
   "cell_type": "code",
   "execution_count": null,
   "metadata": {},
   "outputs": [],
   "source": []
  },
  {
   "cell_type": "code",
   "execution_count": null,
   "metadata": {},
   "outputs": [],
   "source": []
  }
 ],
 "metadata": {
  "kernelspec": {
   "display_name": "venv",
   "language": "python",
   "name": "python3"
  },
  "language_info": {
   "codemirror_mode": {
    "name": "ipython",
    "version": 3
   },
   "file_extension": ".py",
   "mimetype": "text/x-python",
   "name": "python",
   "nbconvert_exporter": "python",
   "pygments_lexer": "ipython3",
   "version": "3.11.1"
  }
 },
 "nbformat": 4,
 "nbformat_minor": 2
}

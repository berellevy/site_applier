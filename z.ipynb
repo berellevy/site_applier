{
 "cells": [
  {
   "cell_type": "code",
   "execution_count": 1,
   "metadata": {},
   "outputs": [],
   "source": [
    "from browser import *\n",
    "\n",
    "from workday import *\n"
   ]
  },
  {
   "cell_type": "code",
   "execution_count": 2,
   "metadata": {},
   "outputs": [],
   "source": [
    "\n",
    "# url = r\"https://fox.wd1.myworkdayjobs.com/en-US/Domestic/login?redirect=%2Fen-US%2FDomestic%2Fjob%2FUSA---CA---Los-Angeles---10201-W.-Pico-Blvd%2FSenior-Software-Engineer_R50023521%2Fapply%2FapplyManually\"\n",
    "url = r\"https://cvshealth.wd1.myworkdayjobs.com/en-US/CVS_Health_Careers/job/Data-Engineer_R0195655-1\"\n",
    "applier = Applier(url)"
   ]
  },
  {
   "cell_type": "code",
   "execution_count": 3,
   "metadata": {},
   "outputs": [],
   "source": [
    "url = r\"https://etsy.wd5.myworkdayjobs.com/Etsy_Careers/job/Brooklyn-New-York/Staff-Engineer-I_JR3440?source=LinkedIn\"\n",
    "\n",
    "applier.go(url)"
   ]
  },
  {
   "cell_type": "code",
   "execution_count": 127,
   "metadata": {},
   "outputs": [
    {
     "data": {
      "text/plain": [
       "<pages.MyExperience at 0x2061b072d90>"
      ]
     },
     "execution_count": 127,
     "metadata": {},
     "output_type": "execute_result"
    }
   ],
   "source": [
    "\n",
    "\n",
    "\n",
    "from pages import get_current_page\n",
    "\n",
    "current_page = get_current_page(applier.browser)\n",
    "current_page"
   ]
  },
  {
   "cell_type": "code",
   "execution_count": 160,
   "metadata": {},
   "outputs": [
    {
     "name": "stderr",
     "output_type": "stream",
     "text": [
      "[autoreload of form_fields.text_input failed: Traceback (most recent call last):\n",
      "  File \"c:\\Users\\berel\\Desktop\\site_applier\\venv\\Lib\\site-packages\\IPython\\extensions\\autoreload.py\", line 276, in check\n",
      "    superreload(m, reload, self.old_objects)\n",
      "  File \"c:\\Users\\berel\\Desktop\\site_applier\\venv\\Lib\\site-packages\\IPython\\extensions\\autoreload.py\", line 500, in superreload\n",
      "    update_generic(old_obj, new_obj)\n",
      "  File \"c:\\Users\\berel\\Desktop\\site_applier\\venv\\Lib\\site-packages\\IPython\\extensions\\autoreload.py\", line 397, in update_generic\n",
      "    update(a, b)\n",
      "  File \"c:\\Users\\berel\\Desktop\\site_applier\\venv\\Lib\\site-packages\\IPython\\extensions\\autoreload.py\", line 349, in update_class\n",
      "    if update_generic(old_obj, new_obj):\n",
      "       ^^^^^^^^^^^^^^^^^^^^^^^^^^^^^^^^\n",
      "  File \"c:\\Users\\berel\\Desktop\\site_applier\\venv\\Lib\\site-packages\\IPython\\extensions\\autoreload.py\", line 397, in update_generic\n",
      "    update(a, b)\n",
      "  File \"c:\\Users\\berel\\Desktop\\site_applier\\venv\\Lib\\site-packages\\IPython\\extensions\\autoreload.py\", line 371, in update_property\n",
      "    update_generic(old.fget, new.fget)\n",
      "  File \"c:\\Users\\berel\\Desktop\\site_applier\\venv\\Lib\\site-packages\\IPython\\extensions\\autoreload.py\", line 397, in update_generic\n",
      "    update(a, b)\n",
      "  File \"c:\\Users\\berel\\Desktop\\site_applier\\venv\\Lib\\site-packages\\IPython\\extensions\\autoreload.py\", line 309, in update_function\n",
      "    setattr(old, name, getattr(new, name))\n",
      "ValueError: is_required() requires a code object with 0 free vars, not 2224793059329\n",
      "]\n"
     ]
    },
    {
     "data": {
      "text/plain": [
       "[<TextInput: required, First Name*>,\n",
       " <TextInput: required, Last Name*>,\n",
       " <TextInput: required, Address Line 1*>,\n",
       " <TextInput: required, City*>,\n",
       " <TextInput: required, Postal Code*>,\n",
       " <TextInput: required, Phone Number*>,\n",
       " <TextInput: Phone Extension>]"
      ]
     },
     "execution_count": 160,
     "metadata": {},
     "output_type": "execute_result"
    }
   ],
   "source": [
    "from form_fields.dropdown import Dropdown\n",
    "from form_fields.multi_section import MultiSection\n",
    "from form_fields.multiselect_search import MultiselectSearchField\n",
    "from form_fields.radio import Radio\n",
    "from form_fields.text_input import TextInput\n",
    "\n",
    "\n",
    "\n",
    "TextInput.find_all(current_page.browser, current_page)"
   ]
  }
 ],
 "metadata": {
  "kernelspec": {
   "display_name": "venv",
   "language": "python",
   "name": "python3"
  },
  "language_info": {
   "codemirror_mode": {
    "name": "ipython",
    "version": 3
   },
   "file_extension": ".py",
   "mimetype": "text/x-python",
   "name": "python",
   "nbconvert_exporter": "python",
   "pygments_lexer": "ipython3",
   "version": "3.11.1"
  }
 },
 "nbformat": 4,
 "nbformat_minor": 2
}
